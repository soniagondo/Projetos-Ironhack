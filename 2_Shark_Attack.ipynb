{
 "cells": [
  {
   "cell_type": "markdown",
   "metadata": {},
   "source": [
    "![Ironhack logo](https://i.imgur.com/1QgrNNw.png)\n",
    "## Project 2 - Data Cleaning Project"
   ]
  },
  {
   "cell_type": "markdown",
   "metadata": {},
   "source": [
    "### Shark Attack Project\n",
    "\n",
    "Data source: https://www.kaggle.com/teajay/global-shark-attacks/version/1\n",
    "\n",
    "**QUESTION**: Is the number of shark attacks increasing over the years in the country with the most attacks?\n"
   ]
  },
  {
   "cell_type": "code",
   "execution_count": 1,
   "metadata": {},
   "outputs": [],
   "source": [
    "# Import required libraries\n",
    "import os\n",
    "import pandas as pd\n",
    "import numpy as np\n",
    "import seaborn as sns\n",
    "import re"
   ]
  },
  {
   "cell_type": "markdown",
   "metadata": {},
   "source": [
    "**Step 1 - Reading and understanding data**"
   ]
  },
  {
   "cell_type": "code",
   "execution_count": 2,
   "metadata": {},
   "outputs": [
    {
     "data": {
      "text/html": [
       "<div>\n",
       "<style scoped>\n",
       "    .dataframe tbody tr th:only-of-type {\n",
       "        vertical-align: middle;\n",
       "    }\n",
       "\n",
       "    .dataframe tbody tr th {\n",
       "        vertical-align: top;\n",
       "    }\n",
       "\n",
       "    .dataframe thead th {\n",
       "        text-align: right;\n",
       "    }\n",
       "</style>\n",
       "<table border=\"1\" class=\"dataframe\">\n",
       "  <thead>\n",
       "    <tr style=\"text-align: right;\">\n",
       "      <th></th>\n",
       "      <th>Case Number</th>\n",
       "      <th>Date</th>\n",
       "      <th>Year</th>\n",
       "      <th>Type</th>\n",
       "      <th>Country</th>\n",
       "      <th>Area</th>\n",
       "      <th>Location</th>\n",
       "      <th>Activity</th>\n",
       "      <th>Name</th>\n",
       "      <th>Sex</th>\n",
       "      <th>...</th>\n",
       "      <th>Species</th>\n",
       "      <th>Investigator or Source</th>\n",
       "      <th>pdf</th>\n",
       "      <th>href formula</th>\n",
       "      <th>href</th>\n",
       "      <th>Case Number.1</th>\n",
       "      <th>Case Number.2</th>\n",
       "      <th>original order</th>\n",
       "      <th>Unnamed: 22</th>\n",
       "      <th>Unnamed: 23</th>\n",
       "    </tr>\n",
       "  </thead>\n",
       "  <tbody>\n",
       "    <tr>\n",
       "      <th>0</th>\n",
       "      <td>2018.06.25</td>\n",
       "      <td>25-Jun-2018</td>\n",
       "      <td>2018.0</td>\n",
       "      <td>Boating</td>\n",
       "      <td>USA</td>\n",
       "      <td>California</td>\n",
       "      <td>Oceanside, San Diego County</td>\n",
       "      <td>Paddling</td>\n",
       "      <td>Julie Wolfe</td>\n",
       "      <td>F</td>\n",
       "      <td>...</td>\n",
       "      <td>White shark</td>\n",
       "      <td>R. Collier, GSAF</td>\n",
       "      <td>2018.06.25-Wolfe.pdf</td>\n",
       "      <td>http://sharkattackfile.net/spreadsheets/pdf_di...</td>\n",
       "      <td>http://sharkattackfile.net/spreadsheets/pdf_di...</td>\n",
       "      <td>2018.06.25</td>\n",
       "      <td>2018.06.25</td>\n",
       "      <td>6303.0</td>\n",
       "      <td>NaN</td>\n",
       "      <td>NaN</td>\n",
       "    </tr>\n",
       "    <tr>\n",
       "      <th>1</th>\n",
       "      <td>2018.06.18</td>\n",
       "      <td>18-Jun-2018</td>\n",
       "      <td>2018.0</td>\n",
       "      <td>Unprovoked</td>\n",
       "      <td>USA</td>\n",
       "      <td>Georgia</td>\n",
       "      <td>St. Simon Island, Glynn County</td>\n",
       "      <td>Standing</td>\n",
       "      <td>Adyson McNeely</td>\n",
       "      <td>F</td>\n",
       "      <td>...</td>\n",
       "      <td>NaN</td>\n",
       "      <td>K.McMurray, TrackingSharks.com</td>\n",
       "      <td>2018.06.18-McNeely.pdf</td>\n",
       "      <td>http://sharkattackfile.net/spreadsheets/pdf_di...</td>\n",
       "      <td>http://sharkattackfile.net/spreadsheets/pdf_di...</td>\n",
       "      <td>2018.06.18</td>\n",
       "      <td>2018.06.18</td>\n",
       "      <td>6302.0</td>\n",
       "      <td>NaN</td>\n",
       "      <td>NaN</td>\n",
       "    </tr>\n",
       "    <tr>\n",
       "      <th>2</th>\n",
       "      <td>2018.06.09</td>\n",
       "      <td>09-Jun-2018</td>\n",
       "      <td>2018.0</td>\n",
       "      <td>Invalid</td>\n",
       "      <td>USA</td>\n",
       "      <td>Hawaii</td>\n",
       "      <td>Habush, Oahu</td>\n",
       "      <td>Surfing</td>\n",
       "      <td>John Denges</td>\n",
       "      <td>M</td>\n",
       "      <td>...</td>\n",
       "      <td>NaN</td>\n",
       "      <td>K.McMurray, TrackingSharks.com</td>\n",
       "      <td>2018.06.09-Denges.pdf</td>\n",
       "      <td>http://sharkattackfile.net/spreadsheets/pdf_di...</td>\n",
       "      <td>http://sharkattackfile.net/spreadsheets/pdf_di...</td>\n",
       "      <td>2018.06.09</td>\n",
       "      <td>2018.06.09</td>\n",
       "      <td>6301.0</td>\n",
       "      <td>NaN</td>\n",
       "      <td>NaN</td>\n",
       "    </tr>\n",
       "    <tr>\n",
       "      <th>3</th>\n",
       "      <td>2018.06.08</td>\n",
       "      <td>08-Jun-2018</td>\n",
       "      <td>2018.0</td>\n",
       "      <td>Unprovoked</td>\n",
       "      <td>AUSTRALIA</td>\n",
       "      <td>New South Wales</td>\n",
       "      <td>Arrawarra Headland</td>\n",
       "      <td>Surfing</td>\n",
       "      <td>male</td>\n",
       "      <td>M</td>\n",
       "      <td>...</td>\n",
       "      <td>2 m shark</td>\n",
       "      <td>B. Myatt, GSAF</td>\n",
       "      <td>2018.06.08-Arrawarra.pdf</td>\n",
       "      <td>http://sharkattackfile.net/spreadsheets/pdf_di...</td>\n",
       "      <td>http://sharkattackfile.net/spreadsheets/pdf_di...</td>\n",
       "      <td>2018.06.08</td>\n",
       "      <td>2018.06.08</td>\n",
       "      <td>6300.0</td>\n",
       "      <td>NaN</td>\n",
       "      <td>NaN</td>\n",
       "    </tr>\n",
       "    <tr>\n",
       "      <th>4</th>\n",
       "      <td>2018.06.04</td>\n",
       "      <td>04-Jun-2018</td>\n",
       "      <td>2018.0</td>\n",
       "      <td>Provoked</td>\n",
       "      <td>MEXICO</td>\n",
       "      <td>Colima</td>\n",
       "      <td>La Ticla</td>\n",
       "      <td>Free diving</td>\n",
       "      <td>Gustavo Ramos</td>\n",
       "      <td>M</td>\n",
       "      <td>...</td>\n",
       "      <td>Tiger shark, 3m</td>\n",
       "      <td>A .Kipper</td>\n",
       "      <td>2018.06.04-Ramos.pdf</td>\n",
       "      <td>http://sharkattackfile.net/spreadsheets/pdf_di...</td>\n",
       "      <td>http://sharkattackfile.net/spreadsheets/pdf_di...</td>\n",
       "      <td>2018.06.04</td>\n",
       "      <td>2018.06.04</td>\n",
       "      <td>6299.0</td>\n",
       "      <td>NaN</td>\n",
       "      <td>NaN</td>\n",
       "    </tr>\n",
       "  </tbody>\n",
       "</table>\n",
       "<p>5 rows × 24 columns</p>\n",
       "</div>"
      ],
      "text/plain": [
       "  Case Number         Date    Year        Type    Country             Area  \\\n",
       "0  2018.06.25  25-Jun-2018  2018.0     Boating        USA       California   \n",
       "1  2018.06.18  18-Jun-2018  2018.0  Unprovoked        USA          Georgia   \n",
       "2  2018.06.09  09-Jun-2018  2018.0     Invalid        USA           Hawaii   \n",
       "3  2018.06.08  08-Jun-2018  2018.0  Unprovoked  AUSTRALIA  New South Wales   \n",
       "4  2018.06.04  04-Jun-2018  2018.0    Provoked     MEXICO           Colima   \n",
       "\n",
       "                         Location     Activity             Name Sex   ...  \\\n",
       "0     Oceanside, San Diego County     Paddling      Julie Wolfe    F  ...   \n",
       "1  St. Simon Island, Glynn County     Standing  Adyson McNeely     F  ...   \n",
       "2                    Habush, Oahu      Surfing      John Denges    M  ...   \n",
       "3              Arrawarra Headland      Surfing             male    M  ...   \n",
       "4                        La Ticla  Free diving   Gustavo Ramos     M  ...   \n",
       "\n",
       "          Species           Investigator or Source                       pdf  \\\n",
       "0      White shark                R. Collier, GSAF      2018.06.25-Wolfe.pdf   \n",
       "1              NaN  K.McMurray, TrackingSharks.com    2018.06.18-McNeely.pdf   \n",
       "2              NaN  K.McMurray, TrackingSharks.com     2018.06.09-Denges.pdf   \n",
       "3        2 m shark                  B. Myatt, GSAF  2018.06.08-Arrawarra.pdf   \n",
       "4  Tiger shark, 3m                       A .Kipper      2018.06.04-Ramos.pdf   \n",
       "\n",
       "                                        href formula  \\\n",
       "0  http://sharkattackfile.net/spreadsheets/pdf_di...   \n",
       "1  http://sharkattackfile.net/spreadsheets/pdf_di...   \n",
       "2  http://sharkattackfile.net/spreadsheets/pdf_di...   \n",
       "3  http://sharkattackfile.net/spreadsheets/pdf_di...   \n",
       "4  http://sharkattackfile.net/spreadsheets/pdf_di...   \n",
       "\n",
       "                                                href Case Number.1  \\\n",
       "0  http://sharkattackfile.net/spreadsheets/pdf_di...    2018.06.25   \n",
       "1  http://sharkattackfile.net/spreadsheets/pdf_di...    2018.06.18   \n",
       "2  http://sharkattackfile.net/spreadsheets/pdf_di...    2018.06.09   \n",
       "3  http://sharkattackfile.net/spreadsheets/pdf_di...    2018.06.08   \n",
       "4  http://sharkattackfile.net/spreadsheets/pdf_di...    2018.06.04   \n",
       "\n",
       "  Case Number.2 original order Unnamed: 22 Unnamed: 23  \n",
       "0    2018.06.25         6303.0         NaN         NaN  \n",
       "1    2018.06.18         6302.0         NaN         NaN  \n",
       "2    2018.06.09         6301.0         NaN         NaN  \n",
       "3    2018.06.08         6300.0         NaN         NaN  \n",
       "4    2018.06.04         6299.0         NaN         NaN  \n",
       "\n",
       "[5 rows x 24 columns]"
      ]
     },
     "execution_count": 2,
     "metadata": {},
     "output_type": "execute_result"
    }
   ],
   "source": [
    "# reading data set\n",
    "df_shark = pd.read_csv('C:/Users/sonia/OneDrive/Sonia/Ironhack/Aulas/Modulo1/Projetos/Projeto2-SharkAttacks/attacks.csv',encoding='latin1')\n",
    "df_shark.head()"
   ]
  },
  {
   "cell_type": "code",
   "execution_count": 3,
   "metadata": {},
   "outputs": [
    {
     "data": {
      "text/plain": [
       "(25723, 24)"
      ]
     },
     "execution_count": 3,
     "metadata": {},
     "output_type": "execute_result"
    }
   ],
   "source": [
    "# dataframe size\n",
    "df_shark.shape"
   ]
  },
  {
   "cell_type": "code",
   "execution_count": 4,
   "metadata": {},
   "outputs": [
    {
     "name": "stdout",
     "output_type": "stream",
     "text": [
      "<class 'pandas.core.frame.DataFrame'>\n",
      "RangeIndex: 25723 entries, 0 to 25722\n",
      "Data columns (total 24 columns):\n",
      " #   Column                  Non-Null Count  Dtype  \n",
      "---  ------                  --------------  -----  \n",
      " 0   Case Number             8702 non-null   object \n",
      " 1   Date                    6302 non-null   object \n",
      " 2   Year                    6300 non-null   float64\n",
      " 3   Type                    6298 non-null   object \n",
      " 4   Country                 6252 non-null   object \n",
      " 5   Area                    5847 non-null   object \n",
      " 6   Location                5762 non-null   object \n",
      " 7   Activity                5758 non-null   object \n",
      " 8   Name                    6092 non-null   object \n",
      " 9   Sex                     5737 non-null   object \n",
      " 10  Age                     3471 non-null   object \n",
      " 11  Injury                  6274 non-null   object \n",
      " 12  Fatal (Y/N)             5763 non-null   object \n",
      " 13  Time                    2948 non-null   object \n",
      " 14  Species                 3464 non-null   object \n",
      " 15  Investigator or Source  6285 non-null   object \n",
      " 16  pdf                     6302 non-null   object \n",
      " 17  href formula            6301 non-null   object \n",
      " 18  href                    6302 non-null   object \n",
      " 19  Case Number.1           6302 non-null   object \n",
      " 20  Case Number.2           6302 non-null   object \n",
      " 21  original order          6309 non-null   float64\n",
      " 22  Unnamed: 22             1 non-null      object \n",
      " 23  Unnamed: 23             2 non-null      object \n",
      "dtypes: float64(2), object(22)\n",
      "memory usage: 4.7+ MB\n"
     ]
    }
   ],
   "source": [
    "# dataframe descriptive information\n",
    "df_shark.info()"
   ]
  },
  {
   "cell_type": "code",
   "execution_count": 5,
   "metadata": {},
   "outputs": [
    {
     "data": {
      "text/plain": [
       "19411"
      ]
     },
     "execution_count": 5,
     "metadata": {},
     "output_type": "execute_result"
    }
   ],
   "source": [
    "# Check for any duplicate entries\n",
    "df_shark.duplicated().sum()"
   ]
  },
  {
   "cell_type": "markdown",
   "metadata": {},
   "source": [
    "*Observations:*\n",
    "\n",
    "- We have a total of 25.723 rows. But the column with more values have 33,8% of non nulls values.\n",
    "- In column 22 and 23, we only have 1 and 2 non-null value, respectively. So we will drop them.\n",
    "- There are 19411 duplicates entries. We will drop."
   ]
  },
  {
   "cell_type": "markdown",
   "metadata": {},
   "source": [
    "Before start dropping columns, is necessary:\n",
    "\n",
    "    1) Do a security copy of a original file\n",
    "    2) Do a process to standardization column names, to be easier to acess them."
   ]
  },
  {
   "cell_type": "code",
   "execution_count": 6,
   "metadata": {},
   "outputs": [
    {
     "data": {
      "text/plain": [
       "(25723, 24)"
      ]
     },
     "execution_count": 6,
     "metadata": {},
     "output_type": "execute_result"
    }
   ],
   "source": [
    "# create a copy of dataset for backup.\n",
    "df_shark_original = df_shark.copy()\n",
    "df_shark_original.shape"
   ]
  },
  {
   "cell_type": "code",
   "execution_count": 7,
   "metadata": {},
   "outputs": [
    {
     "data": {
      "text/plain": [
       "Index(['Case Number', 'Date', 'Year', 'Type', 'Country', 'Area', 'Location',\n",
       "       'Activity', 'Name', 'Sex ', 'Age', 'Injury', 'Fatal (Y/N)', 'Time',\n",
       "       'Species ', 'Investigator or Source', 'pdf', 'href formula', 'href',\n",
       "       'Case Number.1', 'Case Number.2', 'original order', 'Unnamed: 22',\n",
       "       'Unnamed: 23'],\n",
       "      dtype='object')"
      ]
     },
     "execution_count": 7,
     "metadata": {},
     "output_type": "execute_result"
    }
   ],
   "source": [
    "# original column names:\n",
    "columns_names = df_shark.columns\n",
    "columns_names"
   ]
  },
  {
   "cell_type": "code",
   "execution_count": 8,
   "metadata": {},
   "outputs": [
    {
     "data": {
      "text/plain": [
       "['casenumber',\n",
       " 'date',\n",
       " 'year',\n",
       " 'type',\n",
       " 'country',\n",
       " 'area',\n",
       " 'location',\n",
       " 'activity',\n",
       " 'name',\n",
       " 'sex',\n",
       " 'age',\n",
       " 'injury',\n",
       " 'fatal',\n",
       " 'time',\n",
       " 'species',\n",
       " 'investigatororsource',\n",
       " 'pdf',\n",
       " 'hrefformula',\n",
       " 'href',\n",
       " 'casenumber1',\n",
       " 'casenumber2',\n",
       " 'originalorder',\n",
       " 'unnamed:22',\n",
       " 'unnamed:23']"
      ]
     },
     "execution_count": 8,
     "metadata": {},
     "output_type": "execute_result"
    }
   ],
   "source": [
    "# standardization column names\n",
    "df_shark_columns = [column.lower().replace(' ','').replace('.','').replace('(y/n)','') for column in columns_names]\n",
    "df_shark.columns = df_shark_columns\n",
    "df_shark_columns"
   ]
  },
  {
   "cell_type": "code",
   "execution_count": 9,
   "metadata": {},
   "outputs": [],
   "source": [
    "# drop duplicates\n",
    "df_shark = df_shark.drop_duplicates()"
   ]
  },
  {
   "cell_type": "code",
   "execution_count": 10,
   "metadata": {},
   "outputs": [
    {
     "data": {
      "text/plain": [
       "(6312, 24)"
      ]
     },
     "execution_count": 10,
     "metadata": {},
     "output_type": "execute_result"
    }
   ],
   "source": [
    "# data shape after dropping duplicates\n",
    "df_shark.shape"
   ]
  },
  {
   "cell_type": "code",
   "execution_count": 11,
   "metadata": {},
   "outputs": [],
   "source": [
    "# drop columns Unnamed: 22, Unnamed: 23\n",
    "df_shark.drop(['unnamed:22', 'unnamed:23'], axis=1, inplace=True)"
   ]
  },
  {
   "cell_type": "code",
   "execution_count": 12,
   "metadata": {},
   "outputs": [
    {
     "data": {
      "text/plain": [
       "(6312, 22)"
      ]
     },
     "execution_count": 12,
     "metadata": {},
     "output_type": "execute_result"
    }
   ],
   "source": [
    "# data shape after dropping columns Unnamed: 22, Unnamed: 23\n",
    "df_shark.shape"
   ]
  },
  {
   "cell_type": "markdown",
   "metadata": {},
   "source": [
    "Droping variables which we are not going to use in this data analysis.\n",
    "\n",
    "- `casenumber`, `name`, `sex`, `age`, `time` , `species` , `investigatororsourcecolumn` , `pdf`,`hrefformula`, `href`, `casenumber1`, `casenumber2`, `originalorder` are a record index which do not have any significance in out analysis. So will be drop the column."
   ]
  },
  {
   "cell_type": "code",
   "execution_count": 13,
   "metadata": {},
   "outputs": [],
   "source": [
    "# drop columns not useful\n",
    "df_shark = df_shark.drop(['casenumber','name','sex','age', 'time', 'species', 'investigatororsource', 'pdf', 'hrefformula','href', 'casenumber1', 'casenumber2', 'originalorder'], axis=1)"
   ]
  },
  {
   "cell_type": "markdown",
   "metadata": {},
   "source": [
    "Analyzing all select columns in the model."
   ]
  },
  {
   "cell_type": "code",
   "execution_count": 14,
   "metadata": {},
   "outputs": [
    {
     "data": {
      "text/html": [
       "<div>\n",
       "<style scoped>\n",
       "    .dataframe tbody tr th:only-of-type {\n",
       "        vertical-align: middle;\n",
       "    }\n",
       "\n",
       "    .dataframe tbody tr th {\n",
       "        vertical-align: top;\n",
       "    }\n",
       "\n",
       "    .dataframe thead th {\n",
       "        text-align: right;\n",
       "    }\n",
       "</style>\n",
       "<table border=\"1\" class=\"dataframe\">\n",
       "  <thead>\n",
       "    <tr style=\"text-align: right;\">\n",
       "      <th></th>\n",
       "      <th>date</th>\n",
       "      <th>year</th>\n",
       "      <th>type</th>\n",
       "      <th>country</th>\n",
       "      <th>area</th>\n",
       "      <th>location</th>\n",
       "      <th>activity</th>\n",
       "      <th>injury</th>\n",
       "      <th>fatal</th>\n",
       "    </tr>\n",
       "  </thead>\n",
       "  <tbody>\n",
       "    <tr>\n",
       "      <th>0</th>\n",
       "      <td>25-Jun-2018</td>\n",
       "      <td>2018.0</td>\n",
       "      <td>Boating</td>\n",
       "      <td>USA</td>\n",
       "      <td>California</td>\n",
       "      <td>Oceanside, San Diego County</td>\n",
       "      <td>Paddling</td>\n",
       "      <td>No injury to occupant, outrigger canoe and pad...</td>\n",
       "      <td>N</td>\n",
       "    </tr>\n",
       "    <tr>\n",
       "      <th>1</th>\n",
       "      <td>18-Jun-2018</td>\n",
       "      <td>2018.0</td>\n",
       "      <td>Unprovoked</td>\n",
       "      <td>USA</td>\n",
       "      <td>Georgia</td>\n",
       "      <td>St. Simon Island, Glynn County</td>\n",
       "      <td>Standing</td>\n",
       "      <td>Minor injury to left thigh</td>\n",
       "      <td>N</td>\n",
       "    </tr>\n",
       "    <tr>\n",
       "      <th>2</th>\n",
       "      <td>09-Jun-2018</td>\n",
       "      <td>2018.0</td>\n",
       "      <td>Invalid</td>\n",
       "      <td>USA</td>\n",
       "      <td>Hawaii</td>\n",
       "      <td>Habush, Oahu</td>\n",
       "      <td>Surfing</td>\n",
       "      <td>Injury to left lower leg from surfboard skeg</td>\n",
       "      <td>N</td>\n",
       "    </tr>\n",
       "    <tr>\n",
       "      <th>3</th>\n",
       "      <td>08-Jun-2018</td>\n",
       "      <td>2018.0</td>\n",
       "      <td>Unprovoked</td>\n",
       "      <td>AUSTRALIA</td>\n",
       "      <td>New South Wales</td>\n",
       "      <td>Arrawarra Headland</td>\n",
       "      <td>Surfing</td>\n",
       "      <td>Minor injury to lower leg</td>\n",
       "      <td>N</td>\n",
       "    </tr>\n",
       "    <tr>\n",
       "      <th>4</th>\n",
       "      <td>04-Jun-2018</td>\n",
       "      <td>2018.0</td>\n",
       "      <td>Provoked</td>\n",
       "      <td>MEXICO</td>\n",
       "      <td>Colima</td>\n",
       "      <td>La Ticla</td>\n",
       "      <td>Free diving</td>\n",
       "      <td>Lacerations to leg &amp; hand shark PROVOKED INCIDENT</td>\n",
       "      <td>N</td>\n",
       "    </tr>\n",
       "    <tr>\n",
       "      <th>...</th>\n",
       "      <td>...</td>\n",
       "      <td>...</td>\n",
       "      <td>...</td>\n",
       "      <td>...</td>\n",
       "      <td>...</td>\n",
       "      <td>...</td>\n",
       "      <td>...</td>\n",
       "      <td>...</td>\n",
       "      <td>...</td>\n",
       "    </tr>\n",
       "    <tr>\n",
       "      <th>6307</th>\n",
       "      <td>NaN</td>\n",
       "      <td>NaN</td>\n",
       "      <td>NaN</td>\n",
       "      <td>NaN</td>\n",
       "      <td>NaN</td>\n",
       "      <td>NaN</td>\n",
       "      <td>NaN</td>\n",
       "      <td>NaN</td>\n",
       "      <td>NaN</td>\n",
       "    </tr>\n",
       "    <tr>\n",
       "      <th>6308</th>\n",
       "      <td>NaN</td>\n",
       "      <td>NaN</td>\n",
       "      <td>NaN</td>\n",
       "      <td>NaN</td>\n",
       "      <td>NaN</td>\n",
       "      <td>NaN</td>\n",
       "      <td>NaN</td>\n",
       "      <td>NaN</td>\n",
       "      <td>NaN</td>\n",
       "    </tr>\n",
       "    <tr>\n",
       "      <th>6309</th>\n",
       "      <td>NaN</td>\n",
       "      <td>NaN</td>\n",
       "      <td>NaN</td>\n",
       "      <td>NaN</td>\n",
       "      <td>NaN</td>\n",
       "      <td>NaN</td>\n",
       "      <td>NaN</td>\n",
       "      <td>NaN</td>\n",
       "      <td>NaN</td>\n",
       "    </tr>\n",
       "    <tr>\n",
       "      <th>8702</th>\n",
       "      <td>NaN</td>\n",
       "      <td>NaN</td>\n",
       "      <td>NaN</td>\n",
       "      <td>NaN</td>\n",
       "      <td>NaN</td>\n",
       "      <td>NaN</td>\n",
       "      <td>NaN</td>\n",
       "      <td>NaN</td>\n",
       "      <td>NaN</td>\n",
       "    </tr>\n",
       "    <tr>\n",
       "      <th>25722</th>\n",
       "      <td>NaN</td>\n",
       "      <td>NaN</td>\n",
       "      <td>NaN</td>\n",
       "      <td>NaN</td>\n",
       "      <td>NaN</td>\n",
       "      <td>NaN</td>\n",
       "      <td>NaN</td>\n",
       "      <td>NaN</td>\n",
       "      <td>NaN</td>\n",
       "    </tr>\n",
       "  </tbody>\n",
       "</table>\n",
       "<p>6312 rows × 9 columns</p>\n",
       "</div>"
      ],
      "text/plain": [
       "              date    year        type    country             area  \\\n",
       "0      25-Jun-2018  2018.0     Boating        USA       California   \n",
       "1      18-Jun-2018  2018.0  Unprovoked        USA          Georgia   \n",
       "2      09-Jun-2018  2018.0     Invalid        USA           Hawaii   \n",
       "3      08-Jun-2018  2018.0  Unprovoked  AUSTRALIA  New South Wales   \n",
       "4      04-Jun-2018  2018.0    Provoked     MEXICO           Colima   \n",
       "...            ...     ...         ...        ...              ...   \n",
       "6307           NaN     NaN         NaN        NaN              NaN   \n",
       "6308           NaN     NaN         NaN        NaN              NaN   \n",
       "6309           NaN     NaN         NaN        NaN              NaN   \n",
       "8702           NaN     NaN         NaN        NaN              NaN   \n",
       "25722          NaN     NaN         NaN        NaN              NaN   \n",
       "\n",
       "                             location     activity  \\\n",
       "0         Oceanside, San Diego County     Paddling   \n",
       "1      St. Simon Island, Glynn County     Standing   \n",
       "2                        Habush, Oahu      Surfing   \n",
       "3                  Arrawarra Headland      Surfing   \n",
       "4                            La Ticla  Free diving   \n",
       "...                               ...          ...   \n",
       "6307                              NaN          NaN   \n",
       "6308                              NaN          NaN   \n",
       "6309                              NaN          NaN   \n",
       "8702                              NaN          NaN   \n",
       "25722                             NaN          NaN   \n",
       "\n",
       "                                                  injury fatal  \n",
       "0      No injury to occupant, outrigger canoe and pad...     N  \n",
       "1                             Minor injury to left thigh     N  \n",
       "2           Injury to left lower leg from surfboard skeg     N  \n",
       "3                              Minor injury to lower leg     N  \n",
       "4      Lacerations to leg & hand shark PROVOKED INCIDENT     N  \n",
       "...                                                  ...   ...  \n",
       "6307                                                 NaN   NaN  \n",
       "6308                                                 NaN   NaN  \n",
       "6309                                                 NaN   NaN  \n",
       "8702                                                 NaN   NaN  \n",
       "25722                                                NaN   NaN  \n",
       "\n",
       "[6312 rows x 9 columns]"
      ]
     },
     "execution_count": 14,
     "metadata": {},
     "output_type": "execute_result"
    }
   ],
   "source": [
    "df_shark"
   ]
  },
  {
   "cell_type": "markdown",
   "metadata": {},
   "source": [
    "There are some rows almost with no value. So will be drop rows with at least 80% non-NA values."
   ]
  },
  {
   "cell_type": "code",
   "execution_count": 15,
   "metadata": {},
   "outputs": [],
   "source": [
    "# dropping rows\n",
    "df_shark = df_shark.dropna(axis=0, thresh=df_shark.shape[1]*0.80)"
   ]
  },
  {
   "cell_type": "code",
   "execution_count": 16,
   "metadata": {},
   "outputs": [
    {
     "data": {
      "text/plain": [
       "(5838, 9)"
      ]
     },
     "execution_count": 16,
     "metadata": {},
     "output_type": "execute_result"
    }
   ],
   "source": [
    "df_shark.shape"
   ]
  },
  {
   "cell_type": "code",
   "execution_count": 17,
   "metadata": {},
   "outputs": [
    {
     "name": "stdout",
     "output_type": "stream",
     "text": [
      "<class 'pandas.core.frame.DataFrame'>\n",
      "Int64Index: 5838 entries, 0 to 6301\n",
      "Data columns (total 9 columns):\n",
      " #   Column    Non-Null Count  Dtype  \n",
      "---  ------    --------------  -----  \n",
      " 0   date      5838 non-null   object \n",
      " 1   year      5837 non-null   float64\n",
      " 2   type      5837 non-null   object \n",
      " 3   country   5834 non-null   object \n",
      " 4   area      5671 non-null   object \n",
      " 5   location  5603 non-null   object \n",
      " 6   activity  5514 non-null   object \n",
      " 7   injury    5831 non-null   object \n",
      " 8   fatal     5482 non-null   object \n",
      "dtypes: float64(1), object(8)\n",
      "memory usage: 456.1+ KB\n"
     ]
    }
   ],
   "source": [
    "df_shark.info()"
   ]
  },
  {
   "cell_type": "code",
   "execution_count": 18,
   "metadata": {},
   "outputs": [
    {
     "data": {
      "text/plain": [
       "date          0\n",
       "year          1\n",
       "type          1\n",
       "country       4\n",
       "area        167\n",
       "location    235\n",
       "activity    324\n",
       "injury        7\n",
       "fatal       356\n",
       "dtype: int64"
      ]
     },
     "execution_count": 18,
     "metadata": {},
     "output_type": "execute_result"
    }
   ],
   "source": [
    "df_shark.isnull().sum()"
   ]
  },
  {
   "cell_type": "markdown",
   "metadata": {},
   "source": [
    "After excluding some columns and duplicate rows, we ended up with 9 columns and 5983 rows.\n",
    "\n",
    "Now is important to analyze the data quality of each column.\n",
    "\n",
    "Is already possible to see that all columns has more than 90% non-null value."
   ]
  },
  {
   "cell_type": "markdown",
   "metadata": {},
   "source": [
    "**Step 2 - Checking data**"
   ]
  },
  {
   "cell_type": "markdown",
   "metadata": {},
   "source": [
    "**2.1** Checking `year` column"
   ]
  },
  {
   "cell_type": "code",
   "execution_count": 19,
   "metadata": {},
   "outputs": [
    {
     "data": {
      "text/plain": [
       "array([2018., 2017., 2016., 2015., 2014., 2013., 2012., 2011., 2010.,\n",
       "       2009., 2008., 2007., 2006., 2005., 2004., 2003., 2002., 2001.,\n",
       "       2000., 1999., 1998., 1997., 1996., 1995., 1984., 1994., 1993.,\n",
       "       1992., 1991., 1990., 1989., 1988., 1987., 1986., 1985., 1983.,\n",
       "       1982., 1981., 1980., 1979., 1978., 1977., 1976., 1975., 1974.,\n",
       "       1973., 1972., 1971., 1970., 1969., 1968., 1967., 1966., 1965.,\n",
       "       1964., 1963., 1962., 1961., 1960., 1959., 1958., 1957., 1956.,\n",
       "       1955., 1954., 1953., 1952., 1951., 1950., 1949., 1948., 1848.,\n",
       "       1947., 1946., 1945., 1944., 1943., 1942., 1941., 1940., 1939.,\n",
       "       1938., 1937., 1936., 1935., 1934., 1933., 1932., 1931., 1930.,\n",
       "       1929., 1928., 1927., 1926., 1925., 1924., 1923., 1922., 1921.,\n",
       "       1920., 1919., 1918., 1917., 1916., 1915., 1914., 1913., 1912.,\n",
       "       1911., 1910., 1909., 1908., 1907., 1906., 1905., 1904., 1903.,\n",
       "       1902., 1901., 1900., 1899., 1898., 1897., 1896., 1895., 1894.,\n",
       "       1893., 1892., 1891., 1890., 1889., 1888., 1887., 1886., 1885.,\n",
       "       1884., 1883., 1882., 1881., 1880., 1879., 1878., 1877., 1876.,\n",
       "       1875., 1874., 1873., 1872., 1871., 1870., 1869., 1868., 1867.,\n",
       "       1866., 1865., 1864., 1863., 1862., 1861., 1860., 1859., 1858.,\n",
       "       1857., 1856., 1855., 1853., 1852., 1851., 1850., 1849., 1847.,\n",
       "       1846., 1845., 1844., 1842., 1841., 1840., 1839., 1837.,   nan,\n",
       "       1835., 1834., 1832., 1831., 1830., 1829., 1828., 1827., 1826.,\n",
       "       1825., 1822., 1817., 1816., 1815., 1812., 1810., 1808., 1807.,\n",
       "       1804., 1803., 1800., 1792., 1791., 1788., 1787., 1785., 1780.,\n",
       "       1779., 1771., 1767., 1764., 1753., 1751., 1749., 1748., 1738.,\n",
       "       1721., 1703., 1700., 1637., 1642., 1595., 1543.,    5.,    0.])"
      ]
     },
     "execution_count": 19,
     "metadata": {},
     "output_type": "execute_result"
    }
   ],
   "source": [
    "df_shark['year'].unique()"
   ]
  },
  {
   "cell_type": "code",
   "execution_count": 20,
   "metadata": {},
   "outputs": [
    {
     "data": {
      "text/html": [
       "<div>\n",
       "<style scoped>\n",
       "    .dataframe tbody tr th:only-of-type {\n",
       "        vertical-align: middle;\n",
       "    }\n",
       "\n",
       "    .dataframe tbody tr th {\n",
       "        vertical-align: top;\n",
       "    }\n",
       "\n",
       "    .dataframe thead th {\n",
       "        text-align: right;\n",
       "    }\n",
       "</style>\n",
       "<table border=\"1\" class=\"dataframe\">\n",
       "  <thead>\n",
       "    <tr style=\"text-align: right;\">\n",
       "      <th></th>\n",
       "      <th>date</th>\n",
       "      <th>year</th>\n",
       "      <th>type</th>\n",
       "      <th>country</th>\n",
       "      <th>area</th>\n",
       "      <th>location</th>\n",
       "      <th>activity</th>\n",
       "      <th>injury</th>\n",
       "      <th>fatal</th>\n",
       "    </tr>\n",
       "  </thead>\n",
       "  <tbody>\n",
       "    <tr>\n",
       "      <th>6079</th>\n",
       "      <td>Reported 19-Aug-1836</td>\n",
       "      <td>NaN</td>\n",
       "      <td>Unprovoked</td>\n",
       "      <td>ENGLAND</td>\n",
       "      <td>Cumberland</td>\n",
       "      <td>Whitehaven</td>\n",
       "      <td>Swimming</td>\n",
       "      <td>FATAL</td>\n",
       "      <td>Y</td>\n",
       "    </tr>\n",
       "    <tr>\n",
       "      <th>6176</th>\n",
       "      <td>Ca. 5 A.D.</td>\n",
       "      <td>5.0</td>\n",
       "      <td>Unprovoked</td>\n",
       "      <td>AUSTRALIA</td>\n",
       "      <td>New South Wales</td>\n",
       "      <td>Bondi</td>\n",
       "      <td>NaN</td>\n",
       "      <td>Aboriginal rock carving depicts man being atta...</td>\n",
       "      <td>N</td>\n",
       "    </tr>\n",
       "    <tr>\n",
       "      <th>6178</th>\n",
       "      <td>Ca. 336.B.C..</td>\n",
       "      <td>0.0</td>\n",
       "      <td>Unprovoked</td>\n",
       "      <td>GREECE</td>\n",
       "      <td>Piraeus</td>\n",
       "      <td>In the haven of Cantharus</td>\n",
       "      <td>Washing his pig in preparation for a religious...</td>\n",
       "      <td>FATAL, shark \"bit off all lower parts of him u...</td>\n",
       "      <td>Y</td>\n",
       "    </tr>\n",
       "    <tr>\n",
       "      <th>6179</th>\n",
       "      <td>493 B.C.</td>\n",
       "      <td>0.0</td>\n",
       "      <td>Sea Disaster</td>\n",
       "      <td>GREECE</td>\n",
       "      <td>Off Thessaly</td>\n",
       "      <td>NaN</td>\n",
       "      <td>Shipwrecked Persian Fleet</td>\n",
       "      <td>Herodotus tells of sharks attacking men in the...</td>\n",
       "      <td>Y</td>\n",
       "    </tr>\n",
       "    <tr>\n",
       "      <th>6180</th>\n",
       "      <td>Ca. 725 B.C.</td>\n",
       "      <td>0.0</td>\n",
       "      <td>Sea Disaster</td>\n",
       "      <td>ITALY</td>\n",
       "      <td>Tyrrhenian Sea</td>\n",
       "      <td>Krater found during excavations at Lacco Ameno...</td>\n",
       "      <td>Shipwreck</td>\n",
       "      <td>Depicts shipwrecked sailors  attacked by a sha...</td>\n",
       "      <td>Y</td>\n",
       "    </tr>\n",
       "    <tr>\n",
       "      <th>...</th>\n",
       "      <td>...</td>\n",
       "      <td>...</td>\n",
       "      <td>...</td>\n",
       "      <td>...</td>\n",
       "      <td>...</td>\n",
       "      <td>...</td>\n",
       "      <td>...</td>\n",
       "      <td>...</td>\n",
       "      <td>...</td>\n",
       "    </tr>\n",
       "    <tr>\n",
       "      <th>6296</th>\n",
       "      <td>Before 1906</td>\n",
       "      <td>0.0</td>\n",
       "      <td>Unprovoked</td>\n",
       "      <td>AUSTRALIA</td>\n",
       "      <td>New South Wales</td>\n",
       "      <td></td>\n",
       "      <td>Swimming</td>\n",
       "      <td>FATAL</td>\n",
       "      <td>Y</td>\n",
       "    </tr>\n",
       "    <tr>\n",
       "      <th>6297</th>\n",
       "      <td>Before 1903</td>\n",
       "      <td>0.0</td>\n",
       "      <td>Unprovoked</td>\n",
       "      <td>AUSTRALIA</td>\n",
       "      <td>Western Australia</td>\n",
       "      <td>Roebuck Bay</td>\n",
       "      <td>Diving</td>\n",
       "      <td>FATAL</td>\n",
       "      <td>Y</td>\n",
       "    </tr>\n",
       "    <tr>\n",
       "      <th>6298</th>\n",
       "      <td>Before 1903</td>\n",
       "      <td>0.0</td>\n",
       "      <td>Unprovoked</td>\n",
       "      <td>AUSTRALIA</td>\n",
       "      <td>Western Australia</td>\n",
       "      <td>NaN</td>\n",
       "      <td>Pearl diving</td>\n",
       "      <td>FATAL</td>\n",
       "      <td>Y</td>\n",
       "    </tr>\n",
       "    <tr>\n",
       "      <th>6299</th>\n",
       "      <td>1900-1905</td>\n",
       "      <td>0.0</td>\n",
       "      <td>Unprovoked</td>\n",
       "      <td>USA</td>\n",
       "      <td>North Carolina</td>\n",
       "      <td>Ocracoke Inlet</td>\n",
       "      <td>Swimming</td>\n",
       "      <td>FATAL</td>\n",
       "      <td>Y</td>\n",
       "    </tr>\n",
       "    <tr>\n",
       "      <th>6301</th>\n",
       "      <td>1845-1853</td>\n",
       "      <td>0.0</td>\n",
       "      <td>Unprovoked</td>\n",
       "      <td>CEYLON (SRI LANKA)</td>\n",
       "      <td>Eastern Province</td>\n",
       "      <td>Below the English fort, Trincomalee</td>\n",
       "      <td>Swimming</td>\n",
       "      <td>FATAL. \"Shark bit him in half, carrying away t...</td>\n",
       "      <td>Y</td>\n",
       "    </tr>\n",
       "  </tbody>\n",
       "</table>\n",
       "<p>101 rows × 9 columns</p>\n",
       "</div>"
      ],
      "text/plain": [
       "                      date  year          type             country  \\\n",
       "6079  Reported 19-Aug-1836   NaN    Unprovoked             ENGLAND   \n",
       "6176            Ca. 5 A.D.   5.0    Unprovoked           AUSTRALIA   \n",
       "6178         Ca. 336.B.C..   0.0    Unprovoked              GREECE   \n",
       "6179              493 B.C.   0.0  Sea Disaster              GREECE   \n",
       "6180          Ca. 725 B.C.   0.0  Sea Disaster               ITALY   \n",
       "...                    ...   ...           ...                 ...   \n",
       "6296           Before 1906   0.0    Unprovoked           AUSTRALIA   \n",
       "6297           Before 1903   0.0    Unprovoked           AUSTRALIA   \n",
       "6298           Before 1903   0.0    Unprovoked           AUSTRALIA   \n",
       "6299             1900-1905   0.0    Unprovoked                 USA   \n",
       "6301             1845-1853   0.0    Unprovoked  CEYLON (SRI LANKA)   \n",
       "\n",
       "                   area                                           location  \\\n",
       "6079         Cumberland                                         Whitehaven   \n",
       "6176    New South Wales                                              Bondi   \n",
       "6178            Piraeus                          In the haven of Cantharus   \n",
       "6179       Off Thessaly                                                NaN   \n",
       "6180     Tyrrhenian Sea  Krater found during excavations at Lacco Ameno...   \n",
       "...                 ...                                                ...   \n",
       "6296    New South Wales                                                      \n",
       "6297  Western Australia                                        Roebuck Bay   \n",
       "6298  Western Australia                                                NaN   \n",
       "6299     North Carolina                                     Ocracoke Inlet   \n",
       "6301   Eastern Province                Below the English fort, Trincomalee   \n",
       "\n",
       "                                               activity  \\\n",
       "6079                                           Swimming   \n",
       "6176                                                NaN   \n",
       "6178  Washing his pig in preparation for a religious...   \n",
       "6179                          Shipwrecked Persian Fleet   \n",
       "6180                                          Shipwreck   \n",
       "...                                                 ...   \n",
       "6296                                           Swimming   \n",
       "6297                                             Diving   \n",
       "6298                                       Pearl diving   \n",
       "6299                                           Swimming   \n",
       "6301                                           Swimming   \n",
       "\n",
       "                                                 injury fatal  \n",
       "6079                                              FATAL     Y  \n",
       "6176  Aboriginal rock carving depicts man being atta...     N  \n",
       "6178  FATAL, shark \"bit off all lower parts of him u...     Y  \n",
       "6179  Herodotus tells of sharks attacking men in the...     Y  \n",
       "6180  Depicts shipwrecked sailors  attacked by a sha...     Y  \n",
       "...                                                 ...   ...  \n",
       "6296                                              FATAL     Y  \n",
       "6297                                              FATAL     Y  \n",
       "6298                                              FATAL     Y  \n",
       "6299                                              FATAL     Y  \n",
       "6301  FATAL. \"Shark bit him in half, carrying away t...     Y  \n",
       "\n",
       "[101 rows x 9 columns]"
      ]
     },
     "execution_count": 20,
     "metadata": {},
     "output_type": "execute_result"
    }
   ],
   "source": [
    "# counting the number of cases in values that do not correspond to a year number\n",
    "\n",
    "df_shark.loc[(df_shark['year']==0)|(df_shark['year']==5)| (df_shark['year'] != df_shark['year'])]"
   ]
  },
  {
   "cell_type": "markdown",
   "metadata": {},
   "source": [
    "*`Year` column observations:*\n",
    "\n",
    "- The line with non value, correspond year 1836. This will be correct.\n",
    "- Year equals 5, is correct.\n",
    "- Years equals 0 need to be observe with more details."
   ]
  },
  {
   "cell_type": "code",
   "execution_count": 21,
   "metadata": {},
   "outputs": [
    {
     "name": "stderr",
     "output_type": "stream",
     "text": [
      "C:\\Users\\sonia\\anaconda3\\lib\\site-packages\\pandas\\core\\indexing.py:965: SettingWithCopyWarning: \n",
      "A value is trying to be set on a copy of a slice from a DataFrame.\n",
      "Try using .loc[row_indexer,col_indexer] = value instead\n",
      "\n",
      "See the caveats in the documentation: https://pandas.pydata.org/pandas-docs/stable/user_guide/indexing.html#returning-a-view-versus-a-copy\n",
      "  self.obj[item] = s\n"
     ]
    },
    {
     "data": {
      "text/plain": [
       "1836.0"
      ]
     },
     "execution_count": 21,
     "metadata": {},
     "output_type": "execute_result"
    }
   ],
   "source": [
    "# correct year NaN\n",
    "\n",
    "df_shark.loc[(df_shark['year'] != df_shark['year']), 'year'] = 1836\n",
    "df_shark['year'][6079]"
   ]
  },
  {
   "cell_type": "code",
   "execution_count": 22,
   "metadata": {},
   "outputs": [
    {
     "data": {
      "text/plain": [
       "array(['Ca. 336.B.C..', '493 B.C.', 'Ca. 725 B.C.', 'Before 1939',\n",
       "       '1990 or 1991', 'Before 2016', 'Before Oct-2009', 'Before 1934',\n",
       "       '2009?', 'Before 1930', '1880-1899', 'Before 1909', 'Before 2012',\n",
       "       'Before 1908', 'Before 2011', 'Before 2009', 'Beforer 1994',\n",
       "       'Before 1963', '1896-1913', 'Before 08-Jun-1912', 'Before 1901',\n",
       "       'No date, late 1960s', 'Before 2006', 'Before 2003', 'Before 2004',\n",
       "       'Before 1962', '1950s', '2003?', 'No date', 'Before Feb-1998',\n",
       "       'No date, Before May-1996', 'No date, Before Mar-1995',\n",
       "       'Before 1996', 'No date, Before Aug-1989',\n",
       "       'No date, Before Aug-1987', 'No date, Before 1987',\n",
       "       'No date, Before  1975', 'No date, Before 1975',\n",
       "       'No date, Before 3-Jan-1967', 'No date, Before 1963',\n",
       "       'No date, Before 8-May-1965', 'No date, Before 1902',\n",
       "       'No date, After August 1926 and before 1936', 'Before 1961',\n",
       "       '1960s', 'Before  19-Jun-1959', 'Before  24 Apr-1959',\n",
       "       'Before  1958', 'Before 1958', 'Before 1957', 'Before 1956',\n",
       "       'Before Mar-1956', 'Before 1952', '\"During the war\" 1943-1945',\n",
       "       '\"Before the war\"', 'Said to be 1941-1945, more likely 1945',\n",
       "       '1941-1945', '1941-1942', '1940 - 1950', 'World War II',\n",
       "       'A few years before 1938', 'Between 1918 & 1939', '1920 -1923',\n",
       "       'Before 1921', 'Before 1911', 'Before 1917', 'Before 17-Jul-1916',\n",
       "       'No date (3 days after preceding incident) & prior to 19-Jul-1913',\n",
       "       'Before 19-Jul-1913', 'Circa 1862', 'Before 1906', 'Before 1903',\n",
       "       '1900-1905', '1845-1853'], dtype=object)"
      ]
     },
     "execution_count": 22,
     "metadata": {},
     "output_type": "execute_result"
    }
   ],
   "source": [
    "# detail of year equals 0\n",
    "df_shark.loc[df_shark['year']==0,'date'].unique()"
   ]
  },
  {
   "cell_type": "markdown",
   "metadata": {},
   "source": [
    "With this breakdown of the date information it is possible to observe that this data set will not be significant for the analysis. So it will be drop."
   ]
  },
  {
   "cell_type": "code",
   "execution_count": 28,
   "metadata": {},
   "outputs": [],
   "source": [
    "# drop rows year = 0\n",
    "df_shark = df_shark.drop(df_shark[df_shark.year == 0].index)\n"
   ]
  },
  {
   "cell_type": "code",
   "execution_count": 29,
   "metadata": {},
   "outputs": [
    {
     "data": {
      "text/plain": [
       "array([], dtype=object)"
      ]
     },
     "execution_count": 29,
     "metadata": {},
     "output_type": "execute_result"
    }
   ],
   "source": [
    "df_shark.loc[df_shark['year']==0,'date'].unique()"
   ]
  },
  {
   "cell_type": "markdown",
   "metadata": {},
   "source": [
    "**2.2** Checking `country` column"
   ]
  },
  {
   "cell_type": "code",
   "execution_count": 30,
   "metadata": {},
   "outputs": [
    {
     "data": {
      "text/plain": [
       "array(['united states', 'australia', 'mexico', 'brazil', 'united kingdom',\n",
       "       'south africa', 'thailand', 'costa rica', 'maldives',\n",
       "       'the bahamas', 'new caledonia', 'ecuador', 'malaysia', 'libya',\n",
       "       'cuba', 'mauritius', 'new zealand', 'spain', 'samoa',\n",
       "       'solomon islands', 'japan', 'egypt',\n",
       "       'st helena, british overseas territory', 'comoros', 'réunion',\n",
       "       'french polynesia', 'united arab emirates', 'philippines',\n",
       "       'indonesia', 'china', 'colombia', 'fiji', 'dominican republic',\n",
       "       'cayman islands', 'aruba', 'mozambique', 'puerto rico',\n",
       "       'st. martin', 'france', 'trinidad & tobago', 'kiribati', 'israel',\n",
       "       'taiwan', 'palestinian territories', 'seychelles', 'jamaica',\n",
       "       'nigeria', 'tonga', 'scotland', 'canada', 'italy', 'saudi arabia',\n",
       "       'chile', 'antigua', 'papua new guinea', 'kenya', 'russia',\n",
       "       'turks & caicos', 'united arab emirates (uae)', 'portugal',\n",
       "       'south korea', 'malta', 'vietnam', 'madagascar', 'guam', 'panama',\n",
       "       'somalia', 'croatia', 'norway', 'yemen', 'gulf of aden', 'belize',\n",
       "       'sierra leone', 'atlantic ocean', 'st. maartin', 'grand cayman',\n",
       "       'vanuatu', 'mexico ', 'honduras', 'venezuela', 'sri lanka',\n",
       "       ' tonga', 'uruguay', 'india', 'micronesia', 'caribbean sea',\n",
       "       'tanzania', 'marshall islands', 'senegal', 'egypt / israel',\n",
       "       'hong kong', 'el salvador', 'angola', 'montenegro', 'iran',\n",
       "       'tunisia', 'namibia', 'greece', 'north atlantic ocean',\n",
       "       'bangladesh', 'palau', 'western samoa', 'grenada', 'iraq',\n",
       "       'bermuda', 'turkey', 'singapore', 'sudan', 'pacific ocean ',\n",
       "       'federated states of micronesia', 'mid atlantic ocean',\n",
       "       'british west indies', 'south atlantic ocean', 'persian gulf',\n",
       "       'north pacific ocean', 'red sea / indian ocean', 'pacific ocean',\n",
       "       'north sea', 'nicaragua ', 'maldive islands', 'american samoa',\n",
       "       'gabon', 'mayotte', nan, 'north atlantic ocean ', 'the balkans',\n",
       "       'sudan?', 'argentina', 'indian ocean', 'netherlands antilles',\n",
       "       'liberia', 'northern mariana islands', 'iran / iraq', 'java',\n",
       "       ' philippines', 'central pacific', 'solomon islands / vanuatu',\n",
       "       'southwest pacific ocean', 'mid-pacifc ocean', 'slovenia',\n",
       "       'curacao', 'nicaragua', 'iceland', 'barbados', 'cape verde',\n",
       "       'guyana', 'haiti', 'san domingo', 'ireland', 'yemen ',\n",
       "       'reunion island', 'cyprus', 'egypt ', 'burma', 'lebanon',\n",
       "       'martinique', 'ocean', 'georgia', 'tuvalu', 'guinea',\n",
       "       'equatorial guinea / cameroon', 'cook islands', 'tobago', 'peru',\n",
       "       'algeria', 'coast of africa', 'tasman sea', 'ghana'], dtype=object)"
      ]
     },
     "execution_count": 30,
     "metadata": {},
     "output_type": "execute_result"
    }
   ],
   "source": [
    "df_shark['country'].unique()"
   ]
  },
  {
   "cell_type": "code",
   "execution_count": 31,
   "metadata": {},
   "outputs": [
    {
     "data": {
      "text/plain": [
       "4"
      ]
     },
     "execution_count": 31,
     "metadata": {},
     "output_type": "execute_result"
    }
   ],
   "source": [
    "# counting how many non value in country column\n",
    "df_shark['country'].isnull().sum()"
   ]
  },
  {
   "cell_type": "markdown",
   "metadata": {},
   "source": [
    "Correting country names: "
   ]
  },
  {
   "cell_type": "code",
   "execution_count": 32,
   "metadata": {},
   "outputs": [
    {
     "data": {
      "text/plain": [
       "array(['united states', 'australia', 'mexico', 'brazil', 'united kingdom',\n",
       "       'south africa', 'thailand', 'costa rica', 'maldives',\n",
       "       'the bahamas', 'new caledonia', 'ecuador', 'malaysia', 'libya',\n",
       "       'cuba', 'mauritius', 'new zealand', 'spain', 'samoa',\n",
       "       'solomon islands', 'japan', 'egypt',\n",
       "       'st helena, british overseas territory', 'comoros', 'réunion',\n",
       "       'french polynesia', 'united arab emirates', 'philippines',\n",
       "       'indonesia', 'china', 'colombia', 'fiji', 'dominican republic',\n",
       "       'cayman islands', 'aruba', 'mozambique', 'puerto rico',\n",
       "       'st. martin', 'france', 'trinidad & tobago', 'kiribati', 'israel',\n",
       "       'taiwan', 'palestinian territories', 'seychelles', 'jamaica',\n",
       "       'nigeria', 'tonga', 'scotland', 'canada', 'italy', 'saudi arabia',\n",
       "       'chile', 'antigua', 'papua new guinea', 'kenya', 'russia',\n",
       "       'turks & caicos', 'united arab emirates (uae)', 'portugal',\n",
       "       'south korea', 'malta', 'vietnam', 'madagascar', 'guam', 'panama',\n",
       "       'somalia', 'croatia', 'norway', 'yemen', 'gulf of aden', 'belize',\n",
       "       'sierra leone', 'atlantic ocean', 'st. maartin', 'grand cayman',\n",
       "       'vanuatu', 'mexico ', 'honduras', 'venezuela', 'sri lanka',\n",
       "       ' tonga', 'uruguay', 'india', 'micronesia', 'caribbean sea',\n",
       "       'tanzania', 'marshall islands', 'senegal', 'egypt / israel',\n",
       "       'hong kong', 'el salvador', 'angola', 'montenegro', 'iran',\n",
       "       'tunisia', 'namibia', 'greece', 'north atlantic ocean',\n",
       "       'bangladesh', 'palau', 'western samoa', 'grenada', 'iraq',\n",
       "       'bermuda', 'turkey', 'singapore', 'sudan', 'pacific ocean ',\n",
       "       'federated states of micronesia', 'mid atlantic ocean',\n",
       "       'british west indies', 'south atlantic ocean', 'persian gulf',\n",
       "       'north pacific ocean', 'red sea / indian ocean', 'pacific ocean',\n",
       "       'north sea', 'nicaragua ', 'maldive islands', 'american samoa',\n",
       "       'gabon', 'mayotte', nan, 'north atlantic ocean ', 'the balkans',\n",
       "       'sudan?', 'argentina', 'indian ocean', 'netherlands antilles',\n",
       "       'liberia', 'northern mariana islands', 'iran / iraq', 'java',\n",
       "       ' philippines', 'central pacific', 'solomon islands / vanuatu',\n",
       "       'southwest pacific ocean', 'mid-pacifc ocean', 'slovenia',\n",
       "       'curacao', 'nicaragua', 'iceland', 'barbados', 'cape verde',\n",
       "       'guyana', 'haiti', 'san domingo', 'ireland', 'yemen ',\n",
       "       'reunion island', 'cyprus', 'egypt ', 'burma', 'lebanon',\n",
       "       'martinique', 'ocean', 'georgia', 'tuvalu', 'guinea',\n",
       "       'equatorial guinea / cameroon', 'cook islands', 'tobago', 'peru',\n",
       "       'algeria', 'coast of africa', 'tasman sea', 'ghana'], dtype=object)"
      ]
     },
     "execution_count": 32,
     "metadata": {},
     "output_type": "execute_result"
    }
   ],
   "source": [
    "dictionary_country = {\n",
    "    'admiralty islands':  'papua new guinea',\n",
    "    'azores':             'portugal',\n",
    "    'bahamas':            'the bahamas',\n",
    "    'british isles':      'united kingdom',\n",
    "    'british new guinea': 'papua new guinea',\n",
    "    'columbia':           'colombia',\n",
    "    'england':            'united kingdom',\n",
    "    'new britain':        'papua new guinea',\n",
    "    'new guinea':         'papua new guinea',\n",
    "    'okinawa':            'japan',\n",
    "    'red sea':            'egypt',\n",
    "    'reunion':            'réunion',\n",
    "    'usa':                'united states',}\n",
    "\n",
    "df_shark['country'] = df_shark['country'].str.lower()\n",
    "\n",
    "df_shark = df_shark.replace({'country': dictionary_country})\n",
    "df_shark['country'].unique()"
   ]
  },
  {
   "cell_type": "code",
   "execution_count": 33,
   "metadata": {},
   "outputs": [
    {
     "data": {
      "text/plain": [
       "array(['united states', 'australia', 'mexico', 'brazil', 'united kingdom',\n",
       "       'south africa', 'thailand', 'costa rica', 'maldives',\n",
       "       'the bahamas', 'new caledonia', 'ecuador', 'malaysia', 'libya',\n",
       "       'cuba', 'mauritius', 'new zealand', 'spain', 'samoa',\n",
       "       'solomon islands', 'japan', 'egypt',\n",
       "       'st helena, british overseas territory', 'comoros', 'réunion',\n",
       "       'french polynesia', 'united arab emirates', 'philippines',\n",
       "       'indonesia', 'china', 'colombia', 'fiji', 'dominican republic',\n",
       "       'cayman islands', 'aruba', 'mozambique', 'puerto rico',\n",
       "       'st martin', 'france', 'trinidad and tobago', 'kiribati', 'israel',\n",
       "       'taiwan', 'palestinian territories', 'seychelles', 'jamaica',\n",
       "       'nigeria', 'tonga', 'scotland', 'canada', 'italy', 'saudi arabia',\n",
       "       'chile', 'antigua', 'papua new guinea', 'kenya', 'russia',\n",
       "       'turks and caicos', 'united arab emirates ', 'portugal',\n",
       "       'south korea', 'malta', 'vietnam', 'madagascar', 'guam', 'panama',\n",
       "       'somalia', 'croatia', 'norway', 'yemen', 'gulf of aden', 'belize',\n",
       "       'sierra leone', 'atlantic ocean', 'st maartin', 'grand cayman',\n",
       "       'vanuatu', 'mexico ', 'honduras', 'venezuela', 'sri lanka',\n",
       "       ' tonga', 'uruguay', 'india', 'micronesia', 'caribbean sea',\n",
       "       'tanzania', 'marshall islands', 'senegal', 'egypt ', 'hong kong',\n",
       "       'el salvador', 'angola', 'montenegro', 'iran', 'tunisia',\n",
       "       'namibia', 'greece', 'north atlantic ocean', 'bangladesh', 'palau',\n",
       "       'western samoa', 'grenada', 'iraq', 'bermuda', 'turkey',\n",
       "       'singapore', 'sudan', 'pacific ocean ',\n",
       "       'federated states of micronesia', 'mid atlantic ocean',\n",
       "       'british west indies', 'south atlantic ocean', 'persian gulf',\n",
       "       'north pacific ocean', 'red sea ', 'pacific ocean', 'north sea',\n",
       "       'nicaragua ', 'maldive islands', 'american samoa', 'gabon',\n",
       "       'mayotte', nan, 'north atlantic ocean ', 'the balkans',\n",
       "       'argentina', 'indian ocean', 'netherlands antilles', 'liberia',\n",
       "       'northern mariana islands', 'iran ', 'java', ' philippines',\n",
       "       'central pacific', 'solomon islands ', 'southwest pacific ocean',\n",
       "       'mid-pacifc ocean', 'slovenia', 'curacao', 'nicaragua', 'iceland',\n",
       "       'barbados', 'cape verde', 'guyana', 'haiti', 'san domingo',\n",
       "       'ireland', 'yemen ', 'reunion island', 'cyprus', 'burma',\n",
       "       'lebanon', 'martinique', 'ocean', 'georgia', 'tuvalu', 'guinea',\n",
       "       'equatorial guinea ', 'cook islands', 'tobago', 'peru', 'algeria',\n",
       "       'coast of africa', 'tasman sea', 'ghana'], dtype=object)"
      ]
     },
     "execution_count": 33,
     "metadata": {},
     "output_type": "execute_result"
    }
   ],
   "source": [
    "for inc_country in df_shark['country']:\n",
    "    if isinstance(inc_country, str):\n",
    "        cor_country = re.sub('\\&','and',inc_country)\n",
    "        df_shark['country'] = df_shark['country'].replace(inc_country,cor_country)\n",
    "        cor_country = re.sub('\\?|\\.|/.+|\\(.+\\)',\"\",inc_country)\n",
    "        df_shark['country'] = df_shark['country'].replace(inc_country,cor_country)\n",
    "df_shark['country'].unique()"
   ]
  },
  {
   "cell_type": "code",
   "execution_count": 34,
   "metadata": {},
   "outputs": [
    {
     "data": {
      "text/html": [
       "<div>\n",
       "<style scoped>\n",
       "    .dataframe tbody tr th:only-of-type {\n",
       "        vertical-align: middle;\n",
       "    }\n",
       "\n",
       "    .dataframe tbody tr th {\n",
       "        vertical-align: top;\n",
       "    }\n",
       "\n",
       "    .dataframe thead th {\n",
       "        text-align: right;\n",
       "    }\n",
       "</style>\n",
       "<table border=\"1\" class=\"dataframe\">\n",
       "  <thead>\n",
       "    <tr style=\"text-align: right;\">\n",
       "      <th></th>\n",
       "      <th>date</th>\n",
       "      <th>year</th>\n",
       "      <th>type</th>\n",
       "      <th>country</th>\n",
       "      <th>area</th>\n",
       "      <th>location</th>\n",
       "      <th>activity</th>\n",
       "      <th>injury</th>\n",
       "      <th>fatal</th>\n",
       "    </tr>\n",
       "  </thead>\n",
       "  <tbody>\n",
       "    <tr>\n",
       "      <th>4266</th>\n",
       "      <td>1956</td>\n",
       "      <td>1956.0</td>\n",
       "      <td>Sea Disaster</td>\n",
       "      <td>NaN</td>\n",
       "      <td>Between Comores &amp; Madagascar</td>\n",
       "      <td>Geyser Bank</td>\n",
       "      <td>Shipwreck</td>\n",
       "      <td>FATAL</td>\n",
       "      <td>Y</td>\n",
       "    </tr>\n",
       "    <tr>\n",
       "      <th>4498</th>\n",
       "      <td>Dec-1949</td>\n",
       "      <td>1949.0</td>\n",
       "      <td>Sea Disaster</td>\n",
       "      <td>NaN</td>\n",
       "      <td>Caribbean Sea</td>\n",
       "      <td>Between  Cuba  &amp; Costa Rica</td>\n",
       "      <td>Sea Disaster, sinking of the motorship Wingate</td>\n",
       "      <td>Fatal or drowning or scavenging</td>\n",
       "      <td>Y</td>\n",
       "    </tr>\n",
       "    <tr>\n",
       "      <th>5020</th>\n",
       "      <td>Reported 27-Apr-1931</td>\n",
       "      <td>1931.0</td>\n",
       "      <td>Unprovoked</td>\n",
       "      <td>NaN</td>\n",
       "      <td>French Southern Territories</td>\n",
       "      <td>Île Saint-Paul</td>\n",
       "      <td>Fishing, boat capsized</td>\n",
       "      <td>FATAL</td>\n",
       "      <td>Y</td>\n",
       "    </tr>\n",
       "    <tr>\n",
       "      <th>6137</th>\n",
       "      <td>05-Jul-1787</td>\n",
       "      <td>1787.0</td>\n",
       "      <td>Unprovoked</td>\n",
       "      <td>NaN</td>\n",
       "      <td>St Helena</td>\n",
       "      <td>Landing Place</td>\n",
       "      <td>Swimming</td>\n",
       "      <td>FATAL</td>\n",
       "      <td>Y</td>\n",
       "    </tr>\n",
       "  </tbody>\n",
       "</table>\n",
       "</div>"
      ],
      "text/plain": [
       "                      date    year          type country  \\\n",
       "4266                  1956  1956.0  Sea Disaster     NaN   \n",
       "4498              Dec-1949  1949.0  Sea Disaster     NaN   \n",
       "5020  Reported 27-Apr-1931  1931.0    Unprovoked     NaN   \n",
       "6137           05-Jul-1787  1787.0    Unprovoked     NaN   \n",
       "\n",
       "                              area                     location  \\\n",
       "4266  Between Comores & Madagascar                  Geyser Bank   \n",
       "4498                 Caribbean Sea  Between  Cuba  & Costa Rica   \n",
       "5020   French Southern Territories               Île Saint-Paul   \n",
       "6137                     St Helena                Landing Place   \n",
       "\n",
       "                                            activity  \\\n",
       "4266                                       Shipwreck   \n",
       "4498  Sea Disaster, sinking of the motorship Wingate   \n",
       "5020                          Fishing, boat capsized   \n",
       "6137                                        Swimming   \n",
       "\n",
       "                               injury fatal  \n",
       "4266                            FATAL     Y  \n",
       "4498  Fatal or drowning or scavenging     Y  \n",
       "5020                            FATAL     Y  \n",
       "6137                            FATAL     Y  "
      ]
     },
     "execution_count": 34,
     "metadata": {},
     "output_type": "execute_result"
    }
   ],
   "source": [
    "# verifying country with non value\n",
    "df_shark[df_shark['country']!= df_shark['country']]"
   ]
  },
  {
   "cell_type": "code",
   "execution_count": 35,
   "metadata": {},
   "outputs": [],
   "source": [
    "df_shark.loc[df_shark['area'] == 'Caribbean Sea', 'country'] = 'caribe'\n",
    "df_shark.loc[df_shark['area'] == 'French Southern Territories', 'country'] = 'france'\n",
    "df_shark.loc[df_shark['area'] == 'St Helena', 'country'] = 'st helena'"
   ]
  },
  {
   "cell_type": "markdown",
   "metadata": {},
   "source": [
    "Geyser bank doesn't have a definition about the country. So, this row will be drop."
   ]
  },
  {
   "cell_type": "code",
   "execution_count": 36,
   "metadata": {},
   "outputs": [],
   "source": [
    "# drop rows location 'Geyser Bank'\n",
    "df_shark = df_shark.drop(df_shark[df_shark.location == 'Geyser Bank'].index)"
   ]
  },
  {
   "cell_type": "code",
   "execution_count": 37,
   "metadata": {},
   "outputs": [
    {
     "data": {
      "text/plain": [
       "0"
      ]
     },
     "execution_count": 37,
     "metadata": {},
     "output_type": "execute_result"
    }
   ],
   "source": [
    "df_shark['country'].isnull().sum()"
   ]
  },
  {
   "cell_type": "markdown",
   "metadata": {},
   "source": [
    "**2.3** Checking `fatal` column"
   ]
  },
  {
   "cell_type": "code",
   "execution_count": 38,
   "metadata": {},
   "outputs": [
    {
     "data": {
      "text/plain": [
       "N          4101\n",
       "Y          1217\n",
       "UNKNOWN      54\n",
       " N            7\n",
       "N             1\n",
       "y             1\n",
       "M             1\n",
       "2017          1\n",
       "Name: fatal, dtype: int64"
      ]
     },
     "execution_count": 38,
     "metadata": {},
     "output_type": "execute_result"
    }
   ],
   "source": [
    "df_shark['fatal'].value_counts()"
   ]
  },
  {
   "cell_type": "code",
   "execution_count": 39,
   "metadata": {},
   "outputs": [],
   "source": [
    "# correct some values\n",
    "df_shark.loc[df_shark['fatal'] == ' N', 'fatal'] = 'N'\n",
    "df_shark.loc[df_shark['fatal'] == 'N ', 'fatal'] = 'N'\n",
    "df_shark.loc[df_shark['fatal'] == 'y', 'fatal'] = 'Y'"
   ]
  },
  {
   "cell_type": "code",
   "execution_count": 40,
   "metadata": {},
   "outputs": [
    {
     "data": {
      "text/plain": [
       "N          4109\n",
       "Y          1218\n",
       "UNKNOWN      54\n",
       "M             1\n",
       "2017          1\n",
       "Name: fatal, dtype: int64"
      ]
     },
     "execution_count": 40,
     "metadata": {},
     "output_type": "execute_result"
    }
   ],
   "source": [
    "df_shark['fatal'].value_counts()"
   ]
  },
  {
   "cell_type": "code",
   "execution_count": 41,
   "metadata": {},
   "outputs": [],
   "source": [
    "# drop rows with not available values\n",
    "df_shark = df_shark.drop(df_shark[df_shark.fatal == 'UNKNOWN'].index)\n",
    "df_shark = df_shark.drop(df_shark[df_shark.fatal == '2017'].index)\n",
    "df_shark = df_shark.drop(df_shark[df_shark.fatal == 'M'].index)"
   ]
  },
  {
   "cell_type": "code",
   "execution_count": 42,
   "metadata": {},
   "outputs": [
    {
     "data": {
      "text/plain": [
       "N    4109\n",
       "Y    1218\n",
       "Name: fatal, dtype: int64"
      ]
     },
     "execution_count": 42,
     "metadata": {},
     "output_type": "execute_result"
    }
   ],
   "source": [
    "df_shark['fatal'].value_counts()"
   ]
  },
  {
   "cell_type": "markdown",
   "metadata": {},
   "source": [
    "After cleaning these columns it is possible analyze the number of shark attacks over the years."
   ]
  },
  {
   "cell_type": "code",
   "execution_count": 43,
   "metadata": {},
   "outputs": [
    {
     "data": {
      "text/plain": [
       "united states       2147\n",
       "australia           1267\n",
       "south africa         540\n",
       "papua new guinea     142\n",
       "new zealand          122\n",
       "                    ... \n",
       "cayman islands         1\n",
       "gulf of aden           1\n",
       "aruba                  1\n",
       "ghana                  1\n",
       "the balkans            1\n",
       "Name: country, Length: 167, dtype: int64"
      ]
     },
     "execution_count": 43,
     "metadata": {},
     "output_type": "execute_result"
    }
   ],
   "source": [
    "# total of shark attacks by country\n",
    "df_shark['country'].value_counts()"
   ]
  },
  {
   "cell_type": "markdown",
   "metadata": {},
   "source": [
    "The United States is the country with the highest number of shark attacks. So, let's analyze the data over the years."
   ]
  },
  {
   "cell_type": "code",
   "execution_count": 44,
   "metadata": {},
   "outputs": [
    {
     "data": {
      "text/plain": [
       "(1850, 2018)"
      ]
     },
     "execution_count": 44,
     "metadata": {},
     "output_type": "execute_result"
    },
    {
     "data": {
      "image/png": "[encoded data removed]",
      "text/plain": [
       "<Figure size 432x288 with 1 Axes>"
      ]
     },
     "metadata": {
      "needs_background": "light"
     },
     "output_type": "display_data"
    }
   ],
   "source": [
    "# graphic to display the number of shark attack in united states per year\n",
    "\n",
    "df_shark['year_usa'] = df_shark[df_shark['country']=='united states']['year']\n",
    "eua_yy = df_shark['year_usa'].value_counts().sort_index()\n",
    "\n",
    "%matplotlib inline\n",
    "eua_yy.plot(title=\"Shark Attacks in EUA per year\")\n",
    "import matplotlib.pyplot as plt\n",
    "plt.xlim([1850, 2018])"
   ]
  },
  {
   "cell_type": "code",
   "execution_count": 45,
   "metadata": {},
   "outputs": [
    {
     "data": {
      "text/plain": [
       "[Text(0, 0.5, 'Number of shark attacks in EUA')]"
      ]
     },
     "execution_count": 45,
     "metadata": {},
     "output_type": "execute_result"
    },
    {
     "data": {
      "image/png": "[encoded data removed]",
      "text/plain": [
       "<Figure size 432x288 with 1 Axes>"
      ]
     },
     "metadata": {
      "needs_background": "light"
     },
     "output_type": "display_data"
    }
   ],
   "source": [
    "fatal_yy = df_shark[(df_shark['year']>1850)&(df_shark['country']=='united states')].groupby(by=['year','fatal'],as_index=False)[['type']].count()\n",
    "%matplotlib inline\n",
    "graf_fatal = sns.lineplot(x=\"year\", y=\"type\", hue=\"fatal\", data = fatal_yy)\n",
    "graf_fatal.set(ylabel='Number of shark attacks in EUA')\n"
   ]
  },
  {
   "cell_type": "markdown",
   "metadata": {},
   "source": [
    "There has been an increase in the total number of shark attacks over the years in the United States.\n",
    "\n",
    "However, it is possible to observe that the number of fatal cases remained without a significant increase. What really increased were non-fatal cases. \n",
    "\n",
    "This makes us question whether there has actually been an increase in the number of cases or whether there has only been an increase in the number of records."
   ]
  }
 ],
 "metadata": {
  "kernelspec": {
   "display_name": "Python 3",
   "language": "python",
   "name": "python3"
  },
  "language_info": {
   "codemirror_mode": {
    "name": "ipython",
    "version": 3
   },
   "file_extension": ".py",
   "mimetype": "text/x-python",
   "name": "python",
   "nbconvert_exporter": "python",
   "pygments_lexer": "ipython3",
   "version": "3.7.6"
  }
 },
 "nbformat": 4,
 "nbformat_minor": 4
}
